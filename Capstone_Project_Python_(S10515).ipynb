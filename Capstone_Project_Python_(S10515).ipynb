{
  "cells": [
    {
      "cell_type": "code",
      "execution_count": 3,
      "metadata": {
        "id": "qlf2XK9c3JE2"
      },
      "outputs": [],
      "source": [
        "                                               #CAPSTONE PROJECT-PYTHON\n",
        "\n",
        "# The task is to develop an OTP verification system in Python.\n",
        "\n",
        "#The steps that are required are as follows:\n",
        "  #1.Generation of the 6-digit OTP.\n",
        "  #2.Sending the OTP to the user's e-mail address.\n",
        "  #3.Validation of the OTP."
      ]
    },
    {
      "cell_type": "code",
      "execution_count": null,
      "metadata": {
        "id": "WEXz6i5SHSrl"
      },
      "outputs": [],
      "source": [
        "# Asking for user e-mail\n",
        "user_email=input(\"Enter your e-mail: \")\n",
        "\n",
        "#1.Generation of the 6-digit OTP.\n",
        "\n",
        "#Importing the random module to generate random numbers\n",
        "import random\n",
        "\n",
        "# Generate a random 6-digit number, convert it to a string, and store it in 'otp_gen'\n",
        "otp_gen=str(random.randint(100000,999999))\n",
        "\n",
        "# Print the generated OTP to the screen\n",
        "print(\"The generated OTP is :\",otp_gen)"
      ]
    },
    {
      "cell_type": "code",
      "execution_count": null,
      "metadata": {
        "id": "0az8ZC2RfQOr"
      },
      "outputs": [],
      "source": [
        "#2.Sending the OTP to the user's e-mail address\n",
        "\n",
        "# Import necessary modules to create and send email\n",
        "from email.mime import text\n",
        "from email.mime.text import MIMEText\n",
        "from email.mime.multipart import MIMEMultipart\n",
        "import smtplib\n",
        "\n",
        "# Create a connection to Gmail's SMTP server on port 587\n",
        "smtp=smtplib.SMTP(\"smtp.gmail.com\",587)\n",
        "smtp.ehlo()\n",
        "smtp.starttls()\n",
        "\n",
        "# Log in to the Gmail account using email and app password\n",
        "smtp.login('sample.pr9445@gmail.com','mjrr ylnt maye ddox')\n",
        "\n",
        "# Create the email message\n",
        "otp_msg=MIMEMultipart()\n",
        "otp_msg[\"Subject\"]=\"OTP\"\n",
        "otp_msg.attach(MIMEText(f\"The OTP is {otp_gen}\"))\n",
        "\n",
        "# Define the recipient email address\n",
        "to=user_email\n",
        "\n",
        "# Send the email from the sender to the recipient\n",
        "smtp.sendmail(from_addr=(\"sample.pr445gmail.com\"),\n",
        "              to_addrs=to, msg=otp_msg.as_string())\n",
        "\n",
        "# Close the SMTP connection\n",
        "smtp.quit()\n",
        "\n",
        "# Print a confirmation message\n",
        "print(\"The OTP has been sent successfully to your e-mail.\")"
      ]
    },
    {
      "cell_type": "code",
      "execution_count": null,
      "metadata": {
        "id": "o48gtHhx2Jb1"
      },
      "outputs": [],
      "source": [
        "# Validation of the OTP.\n",
        "\n",
        "# Define a function to validate the OTP entered by the user\n",
        "def otp_validation(otp_val):\n",
        "\n",
        "# Keep asking the user for input until they enter the correct OTP\n",
        "  while True:\n",
        "\n",
        "# Ask the user to enter the OTP\n",
        "   user_input=input(\"Enter the 6-digit code:\")\n",
        "\n",
        "# Check if the entered OTP matches the original one\n",
        "   if user_input==otp_val:\n",
        "     print(\"Access Granted.\")                         # If correct, give access\n",
        "     break\n",
        "   else:\n",
        "    print(\"Incorrect OTP, Please re-enter the code\")  # If wrong, ask again\n",
        "\n",
        "# Call the function and pass the generated OTP to it\n",
        "otp_validation(otp_gen)"
      ]
    }
  ],
  "metadata": {
    "colab": {
      "provenance": []
    },
    "kernelspec": {
      "display_name": "Python 3",
      "name": "python3"
    },
    "language_info": {
      "codemirror_mode": {
        "name": "ipython",
        "version": 3
      },
      "file_extension": ".py",
      "mimetype": "text/x-python",
      "name": "python",
      "nbconvert_exporter": "python",
      "pygments_lexer": "ipython3",
      "version": "3.13.5"
    }
  },
  "nbformat": 4,
  "nbformat_minor": 0
}
